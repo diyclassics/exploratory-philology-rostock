{
 "cells": [
  {
   "cell_type": "code",
   "execution_count": null,
   "metadata": {},
   "outputs": [],
   "source": [
    "# Imports\n",
    "\n",
    "from cltkreaders.grc import GreekTesseraeCorpusReader\n",
    "from collections import defaultdict\n",
    "from pprint import pprint\n",
    "import pickle"
   ]
  },
  {
   "cell_type": "code",
   "execution_count": null,
   "metadata": {},
   "outputs": [],
   "source": [
    "# Setup corpus\n",
    "\n",
    "T = GreekTesseraeCorpusReader()"
   ]
  },
  {
   "cell_type": "code",
   "execution_count": null,
   "metadata": {},
   "outputs": [],
   "source": [
    "# Get text \n",
    "\n",
    "clouds = 'aristophanes.clouds.tess'\n",
    "clouds_words = T.words(clouds)"
   ]
  },
  {
   "cell_type": "code",
   "execution_count": null,
   "metadata": {},
   "outputs": [],
   "source": [
    "# Find word in text\n",
    "\n",
    "search_word = 'κόσμος'\n",
    "\n",
    "for word in clouds_words:\n",
    "    if word == search_word :\n",
    "        print('Found one!')\n",
    "        break"
   ]
  },
  {
   "cell_type": "code",
   "execution_count": null,
   "metadata": {},
   "outputs": [],
   "source": [
    "# Get lines\n",
    "\n",
    "clouds_lines = next(T.doc_rows(clouds))\n",
    "clouds_lines = list(clouds_lines.items())\n",
    "clouds_lines[:5]"
   ]
  },
  {
   "cell_type": "code",
   "execution_count": null,
   "metadata": {},
   "outputs": [],
   "source": [
    "# Search text\n",
    "\n",
    "for citation, line in clouds_lines:\n",
    "    if search_word in line:\n",
    "        print('-----')\n",
    "        print(citation)\n",
    "        print(line)\n",
    "        print('-----')\n",
    "        break"
   ]
  },
  {
   "cell_type": "code",
   "execution_count": null,
   "metadata": {},
   "outputs": [],
   "source": [
    "# Search \"all\" texts\n",
    "\n",
    "for file in T.fileids()[:5]:\n",
    "    lines = next(T.doc_rows(file))\n",
    "    lines = list(lines.items())\n",
    "    for citation, line in lines:\n",
    "        if search_word in line:\n",
    "            print(citation)"
   ]
  },
  {
   "cell_type": "code",
   "execution_count": null,
   "metadata": {},
   "outputs": [],
   "source": [
    "# Collect matches in \"all\" texts\n",
    "\n",
    "from collections import defaultdict\n",
    "\n",
    "kosmos_counts = defaultdict(int)\n",
    "\n",
    "for file in T.fileids()[:5]:\n",
    "    lines = next(T.doc_rows(file))\n",
    "    lines = list(lines.items())\n",
    "    for citation, line in lines:\n",
    "        if 'κόσμος' in line:\n",
    "            kosmos_counts[file] += 1\n",
    "        else:\n",
    "            kosmos_counts[file] += 0\n",
    "\n",
    "\n",
    "pprint(kosmos_counts)  "
   ]
  },
  {
   "cell_type": "code",
   "execution_count": null,
   "metadata": {},
   "outputs": [],
   "source": [
    "# Collect matches in all texts\n",
    "\n",
    "kosmos_counts = defaultdict(int)\n",
    "\n",
    "for file in T.fileids():\n",
    "    lines = next(T.doc_rows(file))\n",
    "    lines = list(lines.items())\n",
    "    for citation, line in lines:\n",
    "        if 'κόσμος' in line:\n",
    "            kosmos_counts[file] += 1\n",
    "        else:\n",
    "            kosmos_counts[file] += 0"
   ]
  },
  {
   "cell_type": "code",
   "execution_count": null,
   "metadata": {},
   "outputs": [],
   "source": [
    "# Check assumptions\n",
    "\n",
    "'aristophanes.clouds.tess' in kosmos_counts.keys()"
   ]
  },
  {
   "cell_type": "code",
   "execution_count": null,
   "metadata": {},
   "outputs": [],
   "source": [
    "# Imports; for plotting\n",
    "\n",
    "import seaborn as sns\n",
    "import matplotlib.pyplot as plt\n",
    "pal = sns.color_palette(\"colorblind\")"
   ]
  },
  {
   "cell_type": "code",
   "execution_count": null,
   "metadata": {},
   "outputs": [],
   "source": [
    "# Make barplot of counts\n",
    "\n",
    "kosmos_counts = dict([(k, v) for k, v in kosmos_counts.items() if v > 0])\n",
    "\n",
    "keys = list(kosmos_counts.keys())\n",
    "vals = list(kosmos_counts.values())\n",
    "\n",
    "plt.figure(figsize=(32, 8))\n",
    "ax = sns.barplot(x=keys, y=vals, palette=pal);\n",
    "plt.title('κόσμος raw counts in Greek Tesserae',fontsize=36)\n",
    "plt.xlabel('Works', fontsize=24)\n",
    "plt.ylabel('Count', fontsize=24)\n",
    "ax.set_xticklabels(labels=keys, rotation=75, horizontalalignment='right', fontsize=18);\n",
    "plt.show()\n"
   ]
  },
  {
   "cell_type": "code",
   "execution_count": null,
   "metadata": {},
   "outputs": [],
   "source": [
    "# Make barplot, descending\n",
    "\n",
    "kosmos_counts_sorted = dict(sorted(list(kosmos_counts.items()), key=lambda x: x[1], reverse=True))\n",
    "\n",
    "keys = list(kosmos_counts_sorted.keys())\n",
    "vals = list(kosmos_counts_sorted.values())\n",
    "\n",
    "plt.figure(figsize=(32, 8))\n",
    "ax = sns.barplot(x=keys, y=vals, palette=pal);\n",
    "plt.title('κόσμος raw counts in Greek Tesserae',fontsize=36)\n",
    "plt.xlabel('Works', fontsize=24)\n",
    "plt.ylabel('Count', fontsize=24)\n",
    "ax.set_xticklabels(labels=keys, rotation=75, horizontalalignment='right', fontsize=18);\n",
    "plt.show()\n",
    "\n"
   ]
  },
  {
   "cell_type": "code",
   "execution_count": null,
   "metadata": {},
   "outputs": [],
   "source": [
    "# Get detail of barplot, only left 10\n",
    "\n",
    "kosmos_counts_sorted_left = dict(sorted(list(kosmos_counts.items()), key=lambda x: x[1], reverse=True)[:10])\n",
    "\n",
    "keys = list(kosmos_counts_sorted_left.keys())\n",
    "vals = list(kosmos_counts_sorted_left.values())\n",
    "\n",
    "plt.figure(figsize=(32, 8))\n",
    "ax = sns.barplot(x=keys, y=vals, palette=pal);\n",
    "plt.title('κόσμος raw counts in Greek Tesserae',fontsize=36)\n",
    "plt.xlabel('Works', fontsize=24)\n",
    "plt.ylabel('Count', fontsize=24)\n",
    "ax.set_xticklabels(labels=keys, rotation=75, horizontalalignment='right', fontsize=18);\n",
    "plt.show()"
   ]
  },
  {
   "cell_type": "code",
   "execution_count": null,
   "metadata": {},
   "outputs": [],
   "source": [
    "# Get counts again (i.e. replace 0 values)\n",
    "\n",
    "kosmos_counts = defaultdict(int)\n",
    "\n",
    "for file in T.fileids():\n",
    "    lines = next(T.doc_rows(file))\n",
    "    lines = list(lines.items())\n",
    "    for citation, line in lines:\n",
    "        if 'κόσμος' in line:\n",
    "            kosmos_counts[file] += 1\n",
    "        else:\n",
    "            kosmos_counts[file] += 0"
   ]
  },
  {
   "cell_type": "code",
   "execution_count": null,
   "metadata": {},
   "outputs": [],
   "source": [
    "# Get word counts for all texts\n",
    "# MB: Cached, takes about ~1 min. to run\n",
    "\n",
    "# word_counts = defaultdict(int)\n",
    "\n",
    "# for file in T.fileids():\n",
    "#     word_count = len(list(T.words(file)))\n",
    "#     word_counts[file] = word_count\n",
    "\n",
    "# pickle.dump(word_counts, open('../data/greek_word_counts.pickle', 'wb'))\n",
    "\n",
    "word_counts = pickle.load(open('../data/greek_word_counts.pickle', 'rb'))\n"
   ]
  },
  {
   "cell_type": "code",
   "execution_count": null,
   "metadata": {},
   "outputs": [],
   "source": [
    "# Compare lists\n",
    "\n",
    "pprint(list(word_counts.items())[:5])\n",
    "print()\n",
    "pprint(list(kosmos_counts.items())[:5])\n"
   ]
  },
  {
   "cell_type": "code",
   "execution_count": null,
   "metadata": {},
   "outputs": [],
   "source": [
    "# Workflow for normalizing\n",
    "\n",
    "for i, item in enumerate(kosmos_counts.items()):\n",
    "    text = item[0]\n",
    "    print(text)\n",
    "    kosmos_count = item[1]\n",
    "    print(f'κόσμος appears {kosmos_count} times...')\n",
    "    word_count = list(word_counts.values())[i]\n",
    "    print(f'...in {word_count} total words')\n",
    "    norm_count = (kosmos_count / word_count) * 1000\n",
    "    print(f'The normalized count is {norm_count:.02} per 1000 words')\n",
    "    break"
   ]
  },
  {
   "cell_type": "code",
   "execution_count": null,
   "metadata": {},
   "outputs": [],
   "source": [
    "# Normalize counts\n",
    "\n",
    "kosmos_norm_counts = defaultdict(float)\n",
    "\n",
    "for i, item in enumerate(kosmos_counts.items()):\n",
    "    text = item[0]\n",
    "    kosmos_count = item[1]\n",
    "    word_count = list(word_counts.values())[i]\n",
    "    norm_count = (kosmos_count / word_count) * 1000\n",
    "    kosmos_norm_counts[text] = norm_count\n",
    "\n",
    "list(kosmos_norm_counts.items())[:5]    "
   ]
  },
  {
   "cell_type": "code",
   "execution_count": null,
   "metadata": {},
   "outputs": [],
   "source": [
    "# Make bar plot of normalized data\n",
    "\n",
    "kosmos_norm_counts_sorted = dict(sorted(list(kosmos_norm_counts.items()), key=lambda x: x[1], reverse=True)[:10])\n",
    "\n",
    "keys = list(kosmos_norm_counts_sorted.keys())\n",
    "vals = list(kosmos_norm_counts_sorted.values())\n",
    "\n",
    "plt.figure(figsize=(32, 8))\n",
    "ax = sns.barplot(x=keys, y=vals, palette=pal);\n",
    "plt.title('κόσμος normalized counts in Greek Tesserae (top 50)',fontsize=36)\n",
    "plt.xlabel('Works', fontsize=24)\n",
    "plt.ylabel('Count', fontsize=24)\n",
    "ax.set_xticklabels(labels=keys, rotation=75, horizontalalignment='right', fontsize=18);\n",
    "plt.show()"
   ]
  },
  {
   "cell_type": "code",
   "execution_count": null,
   "metadata": {},
   "outputs": [],
   "source": [
    "# Show example\n",
    "\n",
    "text = 'theocritus.idylls.part.18.tess'\n",
    "print(kosmos_counts[text])\n",
    "print(word_counts[text])"
   ]
  },
  {
   "cell_type": "code",
   "execution_count": null,
   "metadata": {},
   "outputs": [],
   "source": [
    "# Show example\n",
    "\n",
    "text = 'new_testament.i_john.tess'\n",
    "print(kosmos_counts[text])\n",
    "print(word_counts[text])"
   ]
  },
  {
   "cell_type": "code",
   "execution_count": null,
   "metadata": {},
   "outputs": [],
   "source": [
    "# Show example\n",
    "\n",
    "max_kosmos = list(kosmos_counts.keys())[list(kosmos_counts.values()).index(max(kosmos_counts.values()))]\n",
    "\n",
    "# \"diagrammed\"\n",
    "max_kosmos = list(\n",
    "                    kosmos_counts.keys()\n",
    "                    )[\n",
    "                        list(\n",
    "                             kosmos_counts.values()\n",
    "                            ).index(\n",
    "                                    max(\n",
    "                                        kosmos_counts.values()\n",
    "                                        )\n",
    "                                    )\n",
    "                     ]\n",
    "\n",
    "\n",
    "print(max_kosmos)\n",
    "print(kosmos_counts[max_kosmos])\n",
    "print(word_counts[max_kosmos])"
   ]
  }
 ],
 "metadata": {
  "kernelspec": {
   "display_name": "Python 3.8.12 64-bit ('rostock-workshop')",
   "language": "python",
   "name": "python3"
  },
  "language_info": {
   "codemirror_mode": {
    "name": "ipython",
    "version": 3
   },
   "file_extension": ".py",
   "mimetype": "text/x-python",
   "name": "python",
   "nbconvert_exporter": "python",
   "pygments_lexer": "ipython3",
   "version": "3.8.12"
  },
  "orig_nbformat": 4,
  "vscode": {
   "interpreter": {
    "hash": "271717606410ac57bb3ccde2581fc7e1f6e46ce9d2d102e43e700f6187669d78"
   }
  }
 },
 "nbformat": 4,
 "nbformat_minor": 2
}
